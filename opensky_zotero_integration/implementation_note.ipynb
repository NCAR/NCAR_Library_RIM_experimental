{
 "cells": [
  {
   "cell_type": "markdown",
   "metadata": {},
   "source": [
    "# OpenSky Web Services + Zotero Integration Experiment\n",
    "### Keith E. Maull<sup>1</sup>, Michaeleen Trimarchi<sup>2</sup> and Mike Wright<sup>3</sup>\n",
    "\n",
    "##### September 20, 2016\n",
    "\n",
    "#### NCAR Library, National Center for Atmospheric Research\n",
    "1. kmaull@ucar.edu \n",
    "2. trimarchi@ucar.edu\n",
    "3. mwright@ucar.edu"
   ]
  },
  {
   "cell_type": "code",
   "execution_count": 1,
   "metadata": {
    "collapsed": true
   },
   "outputs": [],
   "source": [
    "import requests\n",
    "import json\n",
    "import sys"
   ]
  },
  {
   "cell_type": "markdown",
   "metadata": {},
   "source": [
    "### CONFIGURATION FILE\n",
    "\n",
    "To run the code as demonstrated here, you will need to have a JSON file named `config.json` on the same level as this notebook with the following format and information:\n",
    "\n",
    "``` json\n",
    "    {\n",
    "        \"zoterokey\":  \"<your Zotero key to get WRITE access to your group>\",\n",
    "        \"zoterogroup\": \"<the group link of the form groups/XXXXX\"\n",
    "    }\n",
    "```"
   ]
  },
  {
   "cell_type": "code",
   "execution_count": 2,
   "metadata": {
    "collapsed": false
   },
   "outputs": [],
   "source": [
    "ZOTERO_API_WS = \"https://api.zotero.org\"\n",
    "OSWS_API_WS   = \"http://cypressvm.dls.ucar.edu:8788/osws\"\n",
    "\n",
    "CONFIG = json.load(open('config.json'))\n",
    "\n",
    "NAR_GROUP     = CONFIG['zoterogroup']\n",
    "ZAPI_KEY      = CONFIG['zoterokey']"
   ]
  },
  {
   "cell_type": "markdown",
   "metadata": {},
   "source": [
    "### ZOTERO ARTICLE METADATA OBJECT\n",
    "In order to get data into the Zotero group library, we will need to extract the metadata for it.  In this case, we are going to use [crossref's content negotiation](http://www.crosscite.org/cn/) to get such metadata.  While the metadata _does exist in the OSWS metadata_ we are going to simulate what we need from crossref so we can show another service interaction."
   ]
  },
  {
   "cell_type": "code",
   "execution_count": 3,
   "metadata": {
    "collapsed": false
   },
   "outputs": [],
   "source": [
    "def make_zotero_article_metadata(doi):\n",
    "    article = {\n",
    "        \"itemType\": \"journalArticle\",\n",
    "        \"DOI\": doi,\n",
    "        \"URL\": \"http://dx.doi.org/{}\".format(doi)\n",
    "    }\n",
    "\n",
    "    headers = {'Accept': 'application/vnd.citationstyles.csl+json'}\n",
    "    r = requests.get(\"http://dx.doi.org/{}\".format(doi), headers= headers)\n",
    "    if r.status_code == 200:\n",
    "        try:\n",
    "            resp_payload = r.json()\n",
    "            article['title'] = resp_payload['title']\n",
    "        except ValueError, e:\n",
    "            print \"[DOI:{}] / {}\".format(doi, e.message)\n",
    "\n",
    "    return article"
   ]
  },
  {
   "cell_type": "markdown",
   "metadata": {},
   "source": [
    "### OSWS SEARCH PAYLOAD\n",
    "While in the previous example code, we were extracting the title from Crossref, in reality we already have it, since we are getting the **full** metadata records from OSWS.  Thus the code could easily be adapted to take the title from the OSWS metadata as well as tags, as will be shown later. Learn more about the OSWS requests and data payloads [here](https://docs.google.com/document/d/1gRNhtWkCYFd4Ho9R4X_1J0z_YUEIBhw33e_oRlZ4YYE).\n",
    "\n",
    "An example payload will look something like this:\n",
    "\n",
    "```json\n",
    "{\n",
    "    \"OpenSkyWebService\": {\n",
    "        \"Search\": {\n",
    "            \"results\": {\n",
    "                \"result\": [\n",
    "                    {\n",
    "                        \"head\": {\n",
    "                            \"nldrCitableUrl\": \"http://nldr.library.ucar.edu/repository/collections/OSGC-000-000-022-305\",\n",
    "                            \"PID\": \"articles:18270\",\n",
    "                            \"keyDateYMD\": \"2016-02-01\",\n",
    "                            \"upid\": [\n",
    "                                \"5394\",                                \n",
    "             ...\n",
    "}\n",
    "```"
   ]
  },
  {
   "cell_type": "code",
   "execution_count": 4,
   "metadata": {
    "collapsed": false
   },
   "outputs": [],
   "source": [
    "def get_osws_doi_list(year=2016):\n",
    "    doi_list = []\n",
    "\n",
    "    # will search for all peer-reviewed articles from the year provided\n",
    "    OSWS_QRY = \\\n",
    "        '''{}/search/v1?q=(date:[2016-01-01T00:00:00.000Z TO 2016-08-30T23:00:00.000Z] AND collection:\"articles\")&output=json'''\\\n",
    "        .format(OSWS_API_WS)\n",
    "\n",
    "    r = requests.get(OSWS_QRY)\n",
    "    if r.status_code == 200:\n",
    "        resp_payload = r.json()\n",
    "        results = resp_payload[ \"OpenSkyWebService\" ][ \"Search\" ][ \"results\" ][ \"result\" ]\n",
    "        \n",
    "        # extract just the DOI for now!\n",
    "        for r in results:\n",
    "            doi = r['head']['doi']\n",
    "            doi_list.append(doi)\n",
    "\n",
    "    return doi_list"
   ]
  },
  {
   "cell_type": "markdown",
   "metadata": {},
   "source": [
    "### INSERTING DATA INTO THE ZOTERO GROUP\n",
    "We will use the Zotero API to push data to the group using the `items` (POST) endpoint.  Read the [full documentation](https://www.zotero.org/support/dev/web_api/v3/start) to see the details of other methods that may be of interest to your needs."
   ]
  },
  {
   "cell_type": "code",
   "execution_count": 5,
   "metadata": {
    "collapsed": true
   },
   "outputs": [],
   "source": [
    "def push_to_zotero_group(group_id, group_api_key, article):\n",
    "    # POST the object back to the collection\n",
    "    # print json.dumps(article)\n",
    "\n",
    "    headers = {'Content-Type': 'application/json',\n",
    "               'Authorization': 'Bearer {}'.format(group_api_key)}\n",
    "\n",
    "    r = requests.post('{}/{}/items'.format(ZOTERO_API_WS, group_id), headers=headers, data=json.dumps([article]))\n",
    "    if r.status_code == 200:\n",
    "        print \"[INFO] Push to Zotero successful.\"\n",
    "    else:\n",
    "        print \"[WARN] Push to Zotero NOT successful. ({})\".format(r.status_code)"
   ]
  },
  {
   "cell_type": "markdown",
   "metadata": {},
   "source": [
    "### LET'S TRY IT OUT!\n",
    "\n",
    "We're going to grab data from OSWS, get metadata from Crossref and push data to Zotero as shown in the diagram below:\n",
    "\n",
    "<img src=\"./assets/overview.png\"/>"
   ]
  },
  {
   "cell_type": "code",
   "execution_count": 6,
   "metadata": {
    "collapsed": false
   },
   "outputs": [
    {
     "name": "stdout",
     "output_type": "stream",
     "text": [
      "[INFO] Push to Zotero successful.\n"
     ]
    }
   ],
   "source": [
    "doi_list = get_osws_doi_list()\n",
    "\n",
    "for doi in doi_list[:1]:\n",
    "    try:\n",
    "        article_md = make_zotero_article_metadata(doi)\n",
    "        push_to_zotero_group(NAR_GROUP, ZAPI_KEY, article_md)\n",
    "    except:\n",
    "        print \"[ERROR]: {} / \\n\\t{}\".format(doi, sys.exc_info())"
   ]
  },
  {
   "cell_type": "markdown",
   "metadata": {},
   "source": [
    "### SUCCESS!\n",
    "\n",
    "After executing this on the full set of 2016 publications, title and DOI metadata are now in Zotero(some 464 total publications).  There are all part of the  in the [OpenSky articles collection](http://opensky.ucar.edu/islandora/object/research%3Aarticles), and are able to see them all in Zotero group they were uploaded to.\n",
    "\n",
    "<img src=\"./assets/zotero_screenshot.png\"/>\n",
    "<img src=\"./assets/zotero_screenshot2.png\"/>"
   ]
  }
 ],
 "metadata": {
  "kernelspec": {
   "display_name": "Python 2",
   "language": "python",
   "name": "python2"
  },
  "language_info": {
   "codemirror_mode": {
    "name": "ipython",
    "version": 2
   },
   "file_extension": ".py",
   "mimetype": "text/x-python",
   "name": "python",
   "nbconvert_exporter": "python",
   "pygments_lexer": "ipython2",
   "version": "2.7.11"
  }
 },
 "nbformat": 4,
 "nbformat_minor": 0
}
