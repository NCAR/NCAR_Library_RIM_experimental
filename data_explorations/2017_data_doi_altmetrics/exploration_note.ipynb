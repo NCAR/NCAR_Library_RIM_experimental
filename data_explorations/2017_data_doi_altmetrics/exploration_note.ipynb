{
 "cells": [
  {
   "cell_type": "markdown",
   "metadata": {},
   "source": [
    "# Exploring the Altmetrics footprint of NCAR Data DOIs \n",
    "\n",
    "### Keith E. Maull<sup>1</sup> and Matt Mayernik<sup>2</sup>\n",
    "\n",
    "##### February 1, 2017\n",
    "\n",
    "#### NCAR Library, National Center for Atmospheric Research\n",
    "1. kmaull@ucar.edu \n",
    "2. mayernik@ucar.edu"
   ]
  },
  {
   "cell_type": "markdown",
   "metadata": {},
   "source": [
    "## Summary\n",
    "NCAR has minted thousands of DOI for datasets over the last several years.  With increasing interest of Altmetrics (Twitter, blogs, news, etc.), we explore what the footprint (if any) the DOIs which have been minted with a simple question:\n",
    "\n",
    "* What (if any) is the [Altmetric](https://www.altmetric.com/) profile of the NCAR Dataset DOIs?\n",
    "\n",
    "This implementation note, walks through the basic extraction of all of the NCAR DOIs (prefix `10.5065`). \n",
    "\n",
    "**EXECUTION REQUIREMENTS**\n",
    "* active network connection\n",
    "* Python 2.7.x\n",
    "* Python [Requests](https://duckduckgo.com/?q=python+requests&t=opera&ia=about) library\n"
   ]
  },
  {
   "cell_type": "markdown",
   "metadata": {},
   "source": [
    "## Results\n",
    "\n",
    "The output files for this code are as follows (these files will not exist if you do not run the code):\n",
    "\n",
    "| Filename | Description |\n",
    "|----|----|\n",
    "| [ncar_data_dois_01262017.txt](./ncar_data_dois_01262017.txt)| The output file with all of the NCAR dataset DOIs |\n",
    "| [ncar_data_dois_altmetric_scores.txt](./ncar_data_dois_altmetric_scores.txt)  | The output file with the doi and altmetric score.  In this exploration, there are only 3. |"
   ]
  },
  {
   "cell_type": "markdown",
   "metadata": {},
   "source": [
    "## Extracting all NCAR DOIs from `datacite.org`\n",
    "\n",
    "Using the datasite endpoint at `https://search.datacite.org/api` we execute a simple query to build a list of all of the current NCAR datasets:"
   ]
  },
  {
   "cell_type": "code",
   "execution_count": 1,
   "metadata": {
    "collapsed": false
   },
   "outputs": [],
   "source": [
    "import requests\n",
    "import json\n",
    "import time\n",
    "\n",
    "def make_ncar_data_doi_file(output_file=\"ncar_data_dois_01262017.txt\"):\n",
    "    HTTP_DATACITE_ENDPOINT = \"https://search.datacite.org/api?q=*&fq=prefix:10.5065&wt=json&indent=true&fl=doi,title,description,publicationYear,contributor\"\n",
    "\n",
    "    with open(output_file, \"w\") as fo:\n",
    "        start, status, rows = 0, 1, 500\n",
    "\n",
    "        while status > 0:\n",
    "            r = requests.get(HTTP_DATACITE_ENDPOINT+\"&rows={}&start={}\".format(rows, start*rows))\n",
    "\n",
    "            if r.status_code == 200:\n",
    "                payload = r.json() \n",
    "                dois = [\"{}\\n\".format(o['doi']) for o in payload['response']['docs']]\n",
    "                fo.writelines(dois)\n",
    "\n",
    "                status = len(dois)\n",
    "                start += 1\n",
    "                print(\"{}/[{}]\".format(start*rows, status))\n",
    "            time.sleep(2)"
   ]
  },
  {
   "cell_type": "markdown",
   "metadata": {},
   "source": [
    "## Using the `altmetric` API to get the score\n",
    "\n",
    "It is a simple matter to get the [altmetric score](https://altmetric.com) from the JSON payload.  For example:\n",
    "\n",
    "```python\n",
    "    d = \"10.5065/D62J68XR\"\n",
    "    r = requests.get(\"https://api.altmetric.com/v1/doi/{}\".format(d))\n",
    "    if r.status_code == 200:\n",
    "        payload = r.json()\n",
    "        print( payload['score'] )\n",
    "```"
   ]
  },
  {
   "cell_type": "markdown",
   "metadata": {},
   "source": [
    "Next, we merely want to develop a method of going through the altmetric API and looking up the score (and storing it somewhere).  We will use the default output files as specified in the `generate_score_file()`."
   ]
  },
  {
   "cell_type": "code",
   "execution_count": 2,
   "metadata": {
    "collapsed": false
   },
   "outputs": [],
   "source": [
    "import requests\n",
    "\n",
    "def get_altmetric_score(d):\n",
    "    r = requests.get(\"https://api.altmetric.com/v1/doi/{}\".format(d))\n",
    "    if r.status_code == 200:\n",
    "        return r.json()['score']\n",
    "    else:\n",
    "        return None\n",
    "\n",
    "def generate_score_file(in_file=\"ncar_data_dois_01262017.txt\", \n",
    "                        out_file=\"ncar_data_dois_altmetric_scores.txt\",\n",
    "                        start=0,\n",
    "                        count=100):    \n",
    "    with open(in_file) as fi, open(out_file, \"a\") as fo:\n",
    "        dois = [l.strip() for l in fi.readlines()][start:start+count]\n",
    "\n",
    "        for d in dois:\n",
    "            score = get_altmetric_score(d)\n",
    "            if score:\n",
    "                fo.write(\"{},{}\".format(d, score))\n",
    "                print \"{}:<{}>\".format(d, score)\n",
    "            else:\n",
    "                print \"{}:--\".format(d, score)\n",
    "            time.sleep(2)"
   ]
  },
  {
   "cell_type": "markdown",
   "metadata": {},
   "source": [
    "Now let's put it all together ..."
   ]
  },
  {
   "cell_type": "code",
   "execution_count": null,
   "metadata": {
    "collapsed": true
   },
   "outputs": [],
   "source": [
    "make_ncar_data_doi_file()\n",
    "generate_score_file(start=0, count=700)"
   ]
  },
  {
   "cell_type": "markdown",
   "metadata": {},
   "source": [
    "## Sample results\n",
    "\n",
    "The results of this investigation are not surprising and here are a few statistics:\n",
    "\n",
    "* 4163 total dataset DOIs\n",
    "* 3 DOIs found with altmetric footprint:\n",
    "\n",
    "| DOI | Dataset |Score |\n",
    "|:---:|:-----:|:-----:|\n",
    "| [10.5065/D6WD3XH5](http://dx.doi.org/10.5065/D6WD3XH5)|NCAR Command Language|0.25|\n",
    "| [10.5065/D6PZ56TX](http://dx.doi.org/10.5065/D6PZ56TX)|Bridging data lifecycles: Tracking data use via data citations workshop report|6.064|\n",
    "| [10.5065/D62J68XR](http://dx.doi.org/10.5065/D62J68XR)|Cloud Properties from ISCCP and PATMOS-x Corrected for Spurious Variability Related to Changes in Satellite Orbits, Instrument Calibrations, and Other Factors|10|\n",
    "\n",
    "Here is an example with the DOI with the largest altmetric score:"
   ]
  },
  {
   "cell_type": "code",
   "execution_count": 25,
   "metadata": {
    "collapsed": false
   },
   "outputs": [
    {
     "data": {
      "text/html": [
       "<script type='text/javascript' src='https://d1bxh8uas1mnw7.cloudfront.net/assets/embed.js'></script>\n",
       "<div class='altmetric-embed' data-badge-type='medium-donut' data-badge-details='right' data-doi=\"10.5065/D6WD3XH5\"></div>"
      ],
      "text/plain": [
       "<IPython.core.display.HTML object>"
      ]
     },
     "metadata": {},
     "output_type": "display_data"
    }
   ],
   "source": [
    "%%html\n",
    "<script type='text/javascript' src='https://d1bxh8uas1mnw7.cloudfront.net/assets/embed.js'></script>\n",
    "<div class='altmetric-embed' data-badge-type='medium-donut' data-badge-details='right' data-doi=\"10.5065/D6WD3XH5\"></div>"
   ]
  },
  {
   "cell_type": "code",
   "execution_count": 26,
   "metadata": {
    "collapsed": false
   },
   "outputs": [
    {
     "data": {
      "text/html": [
       "<script type='text/javascript' src='https://d1bxh8uas1mnw7.cloudfront.net/assets/embed.js'></script>\n",
       "<div class='altmetric-embed' data-badge-type='medium-donut' data-badge-details='right' data-doi=\"10.5065/D6PZ56TX\"></div>"
      ],
      "text/plain": [
       "<IPython.core.display.HTML object>"
      ]
     },
     "metadata": {},
     "output_type": "display_data"
    }
   ],
   "source": [
    "%%html\n",
    "<script type='text/javascript' src='https://d1bxh8uas1mnw7.cloudfront.net/assets/embed.js'></script>\n",
    "<div class='altmetric-embed' data-badge-type='medium-donut' data-badge-details='right' data-doi=\"10.5065/D6PZ56TX\"></div>"
   ]
  },
  {
   "cell_type": "code",
   "execution_count": 27,
   "metadata": {
    "collapsed": false
   },
   "outputs": [
    {
     "data": {
      "text/html": [
       "<script type='text/javascript' src='https://d1bxh8uas1mnw7.cloudfront.net/assets/embed.js'></script>\n",
       "<div class='altmetric-embed' data-badge-type='medium-donut' data-badge-details='right' data-doi=\"10.5065/D62J68XR\"></div>"
      ],
      "text/plain": [
       "<IPython.core.display.HTML object>"
      ]
     },
     "metadata": {},
     "output_type": "display_data"
    }
   ],
   "source": [
    "%%html\n",
    "<script type='text/javascript' src='https://d1bxh8uas1mnw7.cloudfront.net/assets/embed.js'></script>\n",
    "<div class='altmetric-embed' data-badge-type='medium-donut' data-badge-details='right' data-doi=\"10.5065/D62J68XR\"></div>"
   ]
  }
 ],
 "metadata": {
  "anaconda-cloud": {},
  "kernelspec": {
   "display_name": "Python [default]",
   "language": "python",
   "name": "python2"
  },
  "language_info": {
   "codemirror_mode": {
    "name": "ipython",
    "version": 2
   },
   "file_extension": ".py",
   "mimetype": "text/x-python",
   "name": "python",
   "nbconvert_exporter": "python",
   "pygments_lexer": "ipython2",
   "version": "2.7.12"
  },
  "toc": {
   "nav_menu": {
    "height": "102px",
    "width": "252px"
   },
   "navigate_menu": true,
   "number_sections": false,
   "sideBar": false,
   "threshold": 4,
   "toc_cell": false,
   "toc_position": {
    "height": "469px",
    "left": "1px",
    "right": "828px",
    "top": "105px",
    "width": "323px"
   },
   "toc_section_display": "block",
   "toc_window_display": false
  }
 },
 "nbformat": 4,
 "nbformat_minor": 1
}
