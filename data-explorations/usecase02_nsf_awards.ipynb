{
 "cells": [
  {
   "cell_type": "markdown",
   "metadata": {},
   "source": [
    "## Exploring NCAR Awarded Amounts\n",
    "\n",
    "Hacking on the NSF awards API, an interesting question popped up in a meeting about the amount of the awards made in a given period of time.  I thought it'd be a good idea to try to see what the API could do here.\n",
    "\n",
    "### Enter `awardeeName`\n",
    "So looking at the docs, the best way to go about doing this is to use the `awardeeName` field in the request to the API.\n",
    "\n",
    "Like so :"
   ]
  },
  {
   "cell_type": "code",
   "execution_count": 1,
   "metadata": {},
   "outputs": [
    {
     "name": "stdout",
     "output_type": "stream",
     "text": [
      "{u'response': {u'award': [{u'date': u'09/17/2015', u'title': u'Engineering experiences: Research on student competency, motivation and persistence in STEM for underserved youth', u'awardeeName': u'University Corporation For Atmospheric Res', u'id': u'1513102', u'estimatedTotalAmt': u'608513'}, {u'date': u'09/10/2015', u'title': u'National Center for Atmospheric Research Activities Funded by the Defense Advanced Research Projects Agency (DARPA)', u'awardeeName': u'University Corporation For Atmospheric Res', u'id': u'1559702', u'estimatedTotalAmt': u'378482'}, {u'date': u'09/10/2015', u'title': u'Extending the Capabilities for Fully Coupled Land-Ice Simulations within the Community Earth System Model', u'awardeeName': u'University Corporation For Atmospheric Res', u'id': u'1443652', u'estimatedTotalAmt': u'116288'}, {u'date': u'08/27/2015', u'title': u'EarthCube IA: Advancing netCDF-CF for the Geoscience Community', u'awardeeName': u'University Corporation For Atmospheric Res', u'id': u'1541031', u'estimatedTotalAmt': u'1091266'}, {u'date': u'08/26/2015', u'title': u'Pilot Study: Creating a Special Collection of NSF-Funded Learning Resources to Support Core Ideas in High School Biology', u'awardeeName': u'University Corporation For Atmospheric Res', u'id': u'1555550', u'estimatedTotalAmt': u'299862'}, {u'date': u'08/13/2015', u'title': u'Support for the Participation of U.S. Scientists and Students in the International Conference on Global Positioning System (GPS) Radio Occultation; Taipei, Taiwan; March 9-11, 2016', u'awardeeName': u'University Corporation For Atmospheric Res', u'id': u'1555013', u'estimatedTotalAmt': u'48988'}, {u'date': u'08/12/2015', u'title': u'Continued Operation of COSMIC GPS Radio Occultation Constellation in Support of Research Applications in Atmospheric Sciences', u'awardeeName': u'University Corporation For Atmospheric Res', u'id': u'1522830', u'estimatedTotalAmt': u'3500000'}, {u'date': u'06/25/2015', u'title': u'RAPID: Collaborative Research: Flask and in Situ Measurements of Carbon and Climate Tracers on ATom-1', u'awardeeName': u'University Corporation For Atmospheric Res', u'id': u'1547626', u'estimatedTotalAmt': u'90666'}, {u'date': u'06/19/2015', u'title': u'US CLIVAR Project Office', u'awardeeName': u'University Corporation For Atmospheric Res', u'id': u'1502208', u'estimatedTotalAmt': u'350000'}, {u'date': u'06/18/2015', u'title': u'2015 Unidata Users Workshop Data-Driven Geoscience: Applications, Opportunities, Trends and Challenges; June 22-25, 2015; UCAR Facilities in Boulder, CO', u'awardeeName': u'University Corporation For Atmospheric Res', u'id': u'1535378', u'estimatedTotalAmt': u'99979'}, {u'date': u'06/03/2015', u'title': u'Collaborative Research: A Field Campaign to Promote Integration Between the Sea Ice Observational and Modeling Communities', u'awardeeName': u'University Corporation For Atmospheric Res', u'id': u'1503738', u'estimatedTotalAmt': u'3528'}, {u'date': u'05/18/2015', u'title': u'2015 US-Taipei Severe Weather and Extreme Precipitation Workshop in Taiwan', u'awardeeName': u'University Corporation For Atmospheric Res', u'id': u'1542750', u'estimatedTotalAmt': u'30000'}, {u'date': u'05/11/2015', u'title': u'Collaborative Research: The O2/N2 Ratio and CO2 Airborne Southern Ocean (ORCAS) Study', u'awardeeName': u'University Corporation For Atmospheric Res', u'id': u'1501993', u'estimatedTotalAmt': u'555236'}, {u'date': u'04/15/2015', u'title': u'Collaborative Research: Improved Ionospheric Source Models for Imaging Upper Mantle-Transition Zone Resistivity', u'awardeeName': u'University Corporation For Atmospheric Res', u'id': u'1446856', u'estimatedTotalAmt': u'84935'}, {u'date': u'03/27/2015', u'title': u'Measurement Techniques for Solar and Space Physics Conference; Boulder, CO; April 20-24, 2015', u'awardeeName': u'University Corporation For Atmospheric Res', u'id': u'1530822', u'estimatedTotalAmt': u'15531'}, {u'date': u'03/20/2015', u'title': u'Tropical Cyclone Research Forum \"Tropical Cyclone Operations and Research: Setting the Future Course\"; Charleston, South Carolina', u'awardeeName': u'University Corporation For Atmospheric Res', u'id': u'1522544', u'estimatedTotalAmt': u'20000'}, {u'date': u'08/04/2015', u'title': u'Collaborative Research: SI2-SSI: Big Weather Web: A Common and Sustainable Big Data Infrastructure in Support of Weather Prediction Research and Education in Universities', u'awardeeName': u'University Corporation For Atmospheric Res', u'id': u'1450180', u'estimatedTotalAmt': u'98702'}, {u'date': u'09/01/2015', u'title': u'EAGER-DynamicData: Transforming Wildfire Detection and Prediction using New and Underused Sensor and Data Sources Integrated with Modeling', u'awardeeName': u'University Corporation For Atmospheric Res', u'id': u'1462247', u'estimatedTotalAmt': u'100000'}, {u'date': u'05/12/2015', u'title': u'Space Weather Workshop 2015; Boulder, CO; April 13-17, 2015', u'awardeeName': u'University Corporation For Atmospheric Res', u'id': u'1535877', u'estimatedTotalAmt': u'25000'}, {u'date': u'05/11/2015', u'title': u'CEDAR Workshop 2015 - 2017 and Community Web Pages and Email Services', u'awardeeName': u'University Corporation For Atmospheric Res', u'id': u'1452218', u'estimatedTotalAmt': u'779508'}, {u'date': u'01/09/2015', u'title': u'Support of the International Conference on Mesoscale Convective System', u'awardeeName': u'University Corporation For Atmospheric Res', u'id': u'1462194', u'estimatedTotalAmt': u'13540'}, {u'date': u'09/11/2015', u'title': u'Multistationarity and Oscillations in Biochemical Reaction Networks', u'awardeeName': u'West Virginia University Research Corporation', u'id': u'1517577', u'estimatedTotalAmt': u'198003'}, {u'date': u'09/09/2015', u'title': u'MRI: Acquisition of Computer Cluster for Data-Driven Discovery in Materials Research and Education', u'awardeeName': u'The University Corporation, Northridge', u'id': u'1532249', u'estimatedTotalAmt': u'298660'}, {u'date': u'09/08/2015', u'title': u'RUI: Extremal Combinatorics of Patterns, Correlation, and Structure', u'awardeeName': u'The University Corporation, Northridge', u'id': u'1500856', u'estimatedTotalAmt': u'150000'}, {u'date': u'09/01/2015', u'title': u'Dimensions US-China: Collaborative Research: Allozomes and dioecy in plants as drivers of multi-level biodiversity', u'awardeeName': u'West Virginia University Research Corporation', u'id': u'1542509', u'estimatedTotalAmt': u'540830'}]}}\n"
     ]
    }
   ],
   "source": [
    "import requests\n",
    "import json\n",
    "\n",
    "# get the grants awarded to UCAR in 2015\n",
    "r = requests.get(\"http://api.nsf.gov/services/v1/awards.json?awardeeName=University%20Corporation%20for%20Atmospheric&startDateStart=01/01/2015&printFields=awardeeName,id,dateStart,estimatedTotalAmt,title&offset=1\")\n",
    "\n",
    "if r.status_code == 200:\n",
    "    response_data = json.loads(r.text)\n",
    "    print response_data"
   ]
  },
  {
   "cell_type": "markdown",
   "metadata": {},
   "source": [
    "We can see there are some data in that list that are not exactly what we wanted (e.g. \"West Virginia University Research Corportation\" and others).  Since our list is small, we'll just drop it in to `data-explorations/ncar_nsf_2015.json` and clean it up a bit for further analysis."
   ]
  },
  {
   "cell_type": "code",
   "execution_count": 2,
   "metadata": {},
   "outputs": [
    {
     "name": "stderr",
     "output_type": "stream",
     "text": [
      "C:\\python_2_7_10_anaconda_2_4_0\\lib\\site-packages\\matplotlib\\collections.py:590: FutureWarning: elementwise comparison failed; returning scalar instead, but in the future will perform elementwise comparison\n  if self._edgecolors == str('face'):\n"
     ]
    },
    {
     "data": {
      "image/png": "[encoded data removed]"
     },
     "output_type": "display_data",
     "text": [
      "<matplotlib.figure.Figure at 0xc7b4f60>"
     ],
     "metadata": {}
    }
   ],
   "source": [
    "%matplotlib inline\n",
    "\n",
    "import json\n",
    "import pandas as pd\n",
    "import numpy as np\n",
    "import matplotlib.pyplot as plt\n",
    "\n",
    "with open(\"c:/users/kmaull/PycharmProjects/nsf-awards-api/nsf-awards-api/data-explorations/ncar_nsf_2015.json\") as fi:\n",
    "    data = json.loads(fi.read())\n",
    "    \n",
    "    award_amounts = pd.DataFrame([int(d['estimatedTotalAmt']) for d in data['response']['award'] if d['awardeeName'] == \"University Corporation For Atmospheric Res\"])\n",
    "    \n",
    "    plt.scatter(range(1,len(award_amounts)+1), award_amounts, alpha=0.5)\n",
    "    plt.show()"
   ]
  },
  {
   "cell_type": "code",
   "execution_count": 3,
   "metadata": {},
   "outputs": [
    {
     "data": {
      "text/html": [
       "<div>\n",
       "<table border=\"1\" class=\"dataframe\">\n",
       "  <thead>\n",
       "    <tr style=\"text-align: right;\">\n",
       "      <th></th>\n",
       "      <th>0</th>\n",
       "    </tr>\n",
       "  </thead>\n",
       "  <tbody>\n",
       "    <tr>\n",
       "      <th>count</th>\n",
       "      <td>21.000000</td>\n",
       "    </tr>\n",
       "    <tr>\n",
       "      <th>mean</th>\n",
       "      <td>395715.428571</td>\n",
       "    </tr>\n",
       "    <tr>\n",
       "      <th>std</th>\n",
       "      <td>769993.094219</td>\n",
       "    </tr>\n",
       "    <tr>\n",
       "      <th>min</th>\n",
       "      <td>3528.000000</td>\n",
       "    </tr>\n",
       "    <tr>\n",
       "      <th>25%</th>\n",
       "      <td>30000.000000</td>\n",
       "    </tr>\n",
       "    <tr>\n",
       "      <th>50%</th>\n",
       "      <td>99979.000000</td>\n",
       "    </tr>\n",
       "    <tr>\n",
       "      <th>75%</th>\n",
       "      <td>378482.000000</td>\n",
       "    </tr>\n",
       "    <tr>\n",
       "      <th>max</th>\n",
       "      <td>3500000.000000</td>\n",
       "    </tr>\n",
       "  </tbody>\n",
       "</table>\n",
       "</div>"
      ]
     },
     "output_type": "execute_result",
     "metadata": {}
    }
   ],
   "source": [
    "award_amounts.describe()"
   ]
  },
  {
   "cell_type": "code",
   "execution_count": 6,
   "metadata": {},
   "outputs": [
    {
     "data": {
      "text/plain": [
       "0    8310024\ndtype: int64"
      ]
     },
     "execution_count": 6,
     "output_type": "execute_result",
     "metadata": {}
    }
   ],
   "source": [
    "award_amounts.sum()"
   ]
  },
  {
   "cell_type": "markdown",
   "metadata": {},
   "source": [
    "So we can see now that of the grants awarded thus far to NCAR _from the NSF_, **that we can find**, we've got 21 total grants, in 2015 totaling some 8.31M, but a median of only 99.98K for 2015 so far."
   ]
  },
  {
   "cell_type": "code",
   "execution_count": null,
   "metadata": {},
   "outputs": [],
   "source": [
    ""
   ]
  }
 ],
 "metadata": {},
 "nbformat": 4,
 "nbformat_minor": 0
}